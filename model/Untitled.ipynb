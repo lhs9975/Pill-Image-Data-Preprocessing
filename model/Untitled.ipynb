{
 "cells": [
  {
   "cell_type": "code",
   "execution_count": 3,
   "id": "2e66d418",
   "metadata": {},
   "outputs": [
    {
     "name": "stdout",
     "output_type": "stream",
     "text": [
      "Requirement already satisfied: tensorflow-gpu==2.5 in c:\\users\\lee\\anaconda3\\envs\\cnn\\lib\\site-packages (2.5.0)\n",
      "Requirement already satisfied: gast==0.4.0 in c:\\users\\lee\\anaconda3\\envs\\cnn\\lib\\site-packages (from tensorflow-gpu==2.5) (0.4.0)\n",
      "Requirement already satisfied: absl-py~=0.10 in c:\\users\\lee\\anaconda3\\envs\\cnn\\lib\\site-packages (from tensorflow-gpu==2.5) (0.15.0)\n",
      "Requirement already satisfied: wrapt~=1.12.1 in c:\\users\\lee\\anaconda3\\envs\\cnn\\lib\\site-packages (from tensorflow-gpu==2.5) (1.12.1)\n",
      "Requirement already satisfied: grpcio~=1.34.0 in c:\\users\\lee\\anaconda3\\envs\\cnn\\lib\\site-packages (from tensorflow-gpu==2.5) (1.34.1)\n",
      "Requirement already satisfied: wheel~=0.35 in c:\\users\\lee\\anaconda3\\envs\\cnn\\lib\\site-packages (from tensorflow-gpu==2.5) (0.38.4)\n",
      "Requirement already satisfied: termcolor~=1.1.0 in c:\\users\\lee\\anaconda3\\envs\\cnn\\lib\\site-packages (from tensorflow-gpu==2.5) (1.1.0)\n",
      "Requirement already satisfied: keras-nightly~=2.5.0.dev in c:\\users\\lee\\anaconda3\\envs\\cnn\\lib\\site-packages (from tensorflow-gpu==2.5) (2.5.0.dev2021032900)\n",
      "Requirement already satisfied: h5py~=3.1.0 in c:\\users\\lee\\anaconda3\\envs\\cnn\\lib\\site-packages (from tensorflow-gpu==2.5) (3.1.0)\n",
      "Requirement already satisfied: six~=1.15.0 in c:\\users\\lee\\anaconda3\\envs\\cnn\\lib\\site-packages (from tensorflow-gpu==2.5) (1.15.0)\n",
      "Requirement already satisfied: numpy~=1.19.2 in c:\\users\\lee\\anaconda3\\envs\\cnn\\lib\\site-packages (from tensorflow-gpu==2.5) (1.19.5)\n",
      "Requirement already satisfied: keras-preprocessing~=1.1.2 in c:\\users\\lee\\anaconda3\\envs\\cnn\\lib\\site-packages (from tensorflow-gpu==2.5) (1.1.2)\n",
      "Requirement already satisfied: astunparse~=1.6.3 in c:\\users\\lee\\anaconda3\\envs\\cnn\\lib\\site-packages (from tensorflow-gpu==2.5) (1.6.3)\n",
      "Requirement already satisfied: flatbuffers~=1.12.0 in c:\\users\\lee\\anaconda3\\envs\\cnn\\lib\\site-packages (from tensorflow-gpu==2.5) (1.12)\n",
      "Requirement already satisfied: opt-einsum~=3.3.0 in c:\\users\\lee\\anaconda3\\envs\\cnn\\lib\\site-packages (from tensorflow-gpu==2.5) (3.3.0)\n",
      "Requirement already satisfied: google-pasta~=0.2 in c:\\users\\lee\\anaconda3\\envs\\cnn\\lib\\site-packages (from tensorflow-gpu==2.5) (0.2.0)\n",
      "Requirement already satisfied: typing-extensions~=3.7.4 in c:\\users\\lee\\anaconda3\\envs\\cnn\\lib\\site-packages (from tensorflow-gpu==2.5) (3.7.4.3)\n",
      "Requirement already satisfied: tensorflow-estimator<2.6.0,>=2.5.0rc0 in c:\\users\\lee\\anaconda3\\envs\\cnn\\lib\\site-packages (from tensorflow-gpu==2.5) (2.5.0)\n",
      "Requirement already satisfied: protobuf>=3.9.2 in c:\\users\\lee\\anaconda3\\envs\\cnn\\lib\\site-packages (from tensorflow-gpu==2.5) (3.20.3)\n",
      "Requirement already satisfied: tensorboard~=2.5 in c:\\users\\lee\\anaconda3\\envs\\cnn\\lib\\site-packages (from tensorflow-gpu==2.5) (2.11.2)\n",
      "Requirement already satisfied: google-auth-oauthlib<0.5,>=0.4.1 in c:\\users\\lee\\anaconda3\\envs\\cnn\\lib\\site-packages (from tensorboard~=2.5->tensorflow-gpu==2.5) (0.4.6)\n",
      "Requirement already satisfied: tensorboard-data-server<0.7.0,>=0.6.0 in c:\\users\\lee\\anaconda3\\envs\\cnn\\lib\\site-packages (from tensorboard~=2.5->tensorflow-gpu==2.5) (0.6.1)\n",
      "Requirement already satisfied: setuptools>=41.0.0 in c:\\users\\lee\\anaconda3\\envs\\cnn\\lib\\site-packages (from tensorboard~=2.5->tensorflow-gpu==2.5) (66.0.0)\n",
      "Requirement already satisfied: markdown>=2.6.8 in c:\\users\\lee\\anaconda3\\envs\\cnn\\lib\\site-packages (from tensorboard~=2.5->tensorflow-gpu==2.5) (3.4.3)\n",
      "Requirement already satisfied: tensorboard-plugin-wit>=1.6.0 in c:\\users\\lee\\anaconda3\\envs\\cnn\\lib\\site-packages (from tensorboard~=2.5->tensorflow-gpu==2.5) (1.8.1)\n",
      "Requirement already satisfied: werkzeug>=1.0.1 in c:\\users\\lee\\anaconda3\\envs\\cnn\\lib\\site-packages (from tensorboard~=2.5->tensorflow-gpu==2.5) (2.3.4)\n",
      "Requirement already satisfied: requests<3,>=2.21.0 in c:\\users\\lee\\anaconda3\\envs\\cnn\\lib\\site-packages (from tensorboard~=2.5->tensorflow-gpu==2.5) (2.30.0)\n",
      "Requirement already satisfied: google-auth<3,>=1.6.3 in c:\\users\\lee\\anaconda3\\envs\\cnn\\lib\\site-packages (from tensorboard~=2.5->tensorflow-gpu==2.5) (2.18.1)\n",
      "Requirement already satisfied: pyasn1-modules>=0.2.1 in c:\\users\\lee\\anaconda3\\envs\\cnn\\lib\\site-packages (from google-auth<3,>=1.6.3->tensorboard~=2.5->tensorflow-gpu==2.5) (0.3.0)\n",
      "Requirement already satisfied: urllib3<2.0 in c:\\users\\lee\\anaconda3\\envs\\cnn\\lib\\site-packages (from google-auth<3,>=1.6.3->tensorboard~=2.5->tensorflow-gpu==2.5) (1.26.15)\n",
      "Requirement already satisfied: rsa<5,>=3.1.4 in c:\\users\\lee\\anaconda3\\envs\\cnn\\lib\\site-packages (from google-auth<3,>=1.6.3->tensorboard~=2.5->tensorflow-gpu==2.5) (4.9)\n",
      "Requirement already satisfied: cachetools<6.0,>=2.0.0 in c:\\users\\lee\\anaconda3\\envs\\cnn\\lib\\site-packages (from google-auth<3,>=1.6.3->tensorboard~=2.5->tensorflow-gpu==2.5) (5.3.0)\n",
      "Requirement already satisfied: requests-oauthlib>=0.7.0 in c:\\users\\lee\\anaconda3\\envs\\cnn\\lib\\site-packages (from google-auth-oauthlib<0.5,>=0.4.1->tensorboard~=2.5->tensorflow-gpu==2.5) (1.3.1)\n",
      "Requirement already satisfied: importlib-metadata>=4.4 in c:\\users\\lee\\anaconda3\\envs\\cnn\\lib\\site-packages (from markdown>=2.6.8->tensorboard~=2.5->tensorflow-gpu==2.5) (6.6.0)\n",
      "Requirement already satisfied: idna<4,>=2.5 in c:\\users\\lee\\anaconda3\\envs\\cnn\\lib\\site-packages (from requests<3,>=2.21.0->tensorboard~=2.5->tensorflow-gpu==2.5) (3.4)\n",
      "Requirement already satisfied: certifi>=2017.4.17 in c:\\users\\lee\\anaconda3\\envs\\cnn\\lib\\site-packages (from requests<3,>=2.21.0->tensorboard~=2.5->tensorflow-gpu==2.5) (2023.5.7)\n",
      "Requirement already satisfied: charset-normalizer<4,>=2 in c:\\users\\lee\\anaconda3\\envs\\cnn\\lib\\site-packages (from requests<3,>=2.21.0->tensorboard~=2.5->tensorflow-gpu==2.5) (3.1.0)\n",
      "Requirement already satisfied: MarkupSafe>=2.1.1 in c:\\users\\lee\\anaconda3\\envs\\cnn\\lib\\site-packages (from werkzeug>=1.0.1->tensorboard~=2.5->tensorflow-gpu==2.5) (2.1.2)\n",
      "Requirement already satisfied: zipp>=0.5 in c:\\users\\lee\\anaconda3\\envs\\cnn\\lib\\site-packages (from importlib-metadata>=4.4->markdown>=2.6.8->tensorboard~=2.5->tensorflow-gpu==2.5) (3.15.0)\n",
      "Requirement already satisfied: pyasn1<0.6.0,>=0.4.6 in c:\\users\\lee\\anaconda3\\envs\\cnn\\lib\\site-packages (from pyasn1-modules>=0.2.1->google-auth<3,>=1.6.3->tensorboard~=2.5->tensorflow-gpu==2.5) (0.5.0)\n",
      "Requirement already satisfied: oauthlib>=3.0.0 in c:\\users\\lee\\anaconda3\\envs\\cnn\\lib\\site-packages (from requests-oauthlib>=0.7.0->google-auth-oauthlib<0.5,>=0.4.1->tensorboard~=2.5->tensorflow-gpu==2.5) (3.2.2)\n"
     ]
    }
   ],
   "source": [
    "!pip install tensorflow-gpu==2.5"
   ]
  },
  {
   "cell_type": "code",
   "execution_count": 4,
   "id": "a3b16df0",
   "metadata": {},
   "outputs": [
    {
     "ename": "ModuleNotFoundError",
     "evalue": "No module named 'tensorflow'",
     "output_type": "error",
     "traceback": [
      "\u001b[1;31m---------------------------------------------------------------------------\u001b[0m",
      "\u001b[1;31mModuleNotFoundError\u001b[0m                       Traceback (most recent call last)",
      "Cell \u001b[1;32mIn[4], line 3\u001b[0m\n\u001b[0;32m      1\u001b[0m \u001b[38;5;28;01mimport\u001b[39;00m \u001b[38;5;21;01mos\u001b[39;00m\n\u001b[0;32m      2\u001b[0m \u001b[38;5;28;01mimport\u001b[39;00m \u001b[38;5;21;01mnumpy\u001b[39;00m\n\u001b[1;32m----> 3\u001b[0m \u001b[38;5;28;01mimport\u001b[39;00m \u001b[38;5;21;01mtensorflow\u001b[39;00m \u001b[38;5;28;01mas\u001b[39;00m \u001b[38;5;21;01mtf\u001b[39;00m\n\u001b[0;32m      4\u001b[0m \u001b[38;5;28;01mfrom\u001b[39;00m \u001b[38;5;21;01mtensorflow\u001b[39;00m\u001b[38;5;21;01m.\u001b[39;00m\u001b[38;5;21;01mkeras\u001b[39;00m\u001b[38;5;21;01m.\u001b[39;00m\u001b[38;5;21;01mpreprocessing\u001b[39;00m\u001b[38;5;21;01m.\u001b[39;00m\u001b[38;5;21;01mimage\u001b[39;00m \u001b[38;5;28;01mimport\u001b[39;00m ImageDataGenerator\n\u001b[0;32m      5\u001b[0m \u001b[38;5;28;01mfrom\u001b[39;00m \u001b[38;5;21;01mkeras\u001b[39;00m\u001b[38;5;21;01m.\u001b[39;00m\u001b[38;5;21;01mmodels\u001b[39;00m \u001b[38;5;28;01mimport\u001b[39;00m Model\n",
      "\u001b[1;31mModuleNotFoundError\u001b[0m: No module named 'tensorflow'"
     ]
    }
   ],
   "source": [
    "import os\n",
    "import numpy\n",
    "import tensorflow as tf\n",
    "from tensorflow.keras.preprocessing.image import ImageDataGenerator\n",
    "from keras.models import Model"
   ]
  }
 ],
 "metadata": {
  "kernelspec": {
   "display_name": "Python 3 (ipykernel)",
   "language": "python",
   "name": "python3"
  },
  "language_info": {
   "codemirror_mode": {
    "name": "ipython",
    "version": 3
   },
   "file_extension": ".py",
   "mimetype": "text/x-python",
   "name": "python",
   "nbconvert_exporter": "python",
   "pygments_lexer": "ipython3",
   "version": "3.10.10"
  }
 },
 "nbformat": 4,
 "nbformat_minor": 5
}
